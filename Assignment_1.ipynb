import pandas as pd

# Load the dataset (Make sure the CSV is in the same folder as the notebook)
df = pd.read_csv("Traffic_Crashes_-_Crashes.csv", low_memory=False)

# Display first few rows
df.head()
